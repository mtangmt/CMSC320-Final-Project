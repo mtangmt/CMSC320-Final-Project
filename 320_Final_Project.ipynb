{
 "cells": [
  {
   "cell_type": "markdown",
   "metadata": {
    "id": "lSofAShKX3_z"
   },
   "source": [
    "Costs of College, Private and Public\n",
    "\n",
    "An analysis by Michael Tang"
   ]
  },
  {
   "cell_type": "markdown",
   "metadata": {
    "id": "7iNaZjDibc62"
   },
   "source": [
    "# Table of Contents\n",
    "\n",
    "\n",
    "1.   Introduction\n",
    "2.   Data Collection and Tidying\n",
    "3.   Exploratory Analysis\n",
    "\n",
    "> 3a. Hours needed to work to pay for college\n",
    "\n",
    "4.   Machine Learning \n",
    "\n",
    "> 4a. Analysing Growth Rates to Compare Private vs Public College Costs\n",
    "\n",
    "> 4b. How do these Growth Rates Compare to the Growth of Minimum Wage\n",
    "\n",
    "5. Conclusion and Final Thoughts\n",
    "\n",
    "\n",
    "\n",
    "\n",
    "\n",
    "\n"
   ]
  },
  {
   "cell_type": "markdown",
   "metadata": {
    "id": "8uVIJwp8fu3d"
   },
   "source": [
    "# 1. Introduction\n",
    "As a college student I worry a lot about tuition costs and fees because I need to feel like I'm gettiing my moneys worth here. I can speak for my personal friends and many peers that many of us feel like higher education is becoming more and more expensive with little improvement to the quality of learning. We feel like it's becoming more and more of a scam. All the while, we are constantly told by the older generations that it's a worthwhile investment because \"you can work through college and pay for it while you study.\" \n",
    "\n",
    "In this project I'll be examining the cost of attending college and wether or not we can follow the older generation's advice to just \"work through college\". In addition, I want to analyze the trends to see if the situtation is getting better or worse. "
   ]
  },
  {
   "cell_type": "markdown",
   "metadata": {
    "id": "N4iJY57Ljzbn"
   },
   "source": [
    "# Required Tools\n",
    "First we need to import the required tools. \n",
    "Here are the libraries needed for this tutorial:\n",
    "\n",
    "\n",
    "1.   pandas\n",
    "2.   numpy\n",
    "3.   requests\n",
    "4.   matplotlib\n",
    "5.   sklearn\n",
    "6.   statsmodels.api\n",
    "\n"
   ]
  },
  {
   "cell_type": "markdown",
   "metadata": {
    "id": "jmEKkFgHkTHn"
   },
   "source": [
    "# 2. Data Collection and Tidying\n",
    "Now what we're going to do is collect our data.\n",
    "We're going to scrape data from the National Center for Education Statistics (NCES) site to find the average cost per year of attending different college institutions.\n",
    "We do this by making a request to the site, convert it to HTML, and isolate the table with the statistics we need in that HTML.\n",
    "Below is the code and the raw table we have extracted."
   ]
  },
  {
   "cell_type": "code",
   "execution_count": 80,
   "metadata": {
    "colab": {
     "base_uri": "https://localhost:8080/",
     "height": 536
    },
    "id": "lOFxU47pXk6X",
    "outputId": "d66ada52-4f3a-4c88-996a-8154647c501a"
   },
   "outputs": [
    {
     "data": {
      "text/html": [
       "\n",
       "  <div id=\"df-5bba2100-12c9-43d1-837c-315383e11753\">\n",
       "    <div class=\"colab-df-container\">\n",
       "      <div>\n",
       "<style scoped>\n",
       "    .dataframe tbody tr th:only-of-type {\n",
       "        vertical-align: middle;\n",
       "    }\n",
       "\n",
       "    .dataframe tbody tr th {\n",
       "        vertical-align: top;\n",
       "    }\n",
       "\n",
       "    .dataframe thead th {\n",
       "        text-align: right;\n",
       "    }\n",
       "</style>\n",
       "<table border=\"1\" class=\"dataframe\">\n",
       "  <thead>\n",
       "    <tr style=\"text-align: right;\">\n",
       "      <th></th>\n",
       "      <th>0</th>\n",
       "      <th>1</th>\n",
       "      <th>2</th>\n",
       "      <th>3</th>\n",
       "      <th>4</th>\n",
       "      <th>5</th>\n",
       "      <th>6</th>\n",
       "      <th>7</th>\n",
       "    </tr>\n",
       "  </thead>\n",
       "  <tbody>\n",
       "    <tr>\n",
       "      <th>0</th>\n",
       "      <td>Average total tuition, fees, room and board ra...</td>\n",
       "      <td>Average total tuition, fees, room and board ra...</td>\n",
       "      <td>Average total tuition, fees, room and board ra...</td>\n",
       "      <td>Average total tuition, fees, room and board ra...</td>\n",
       "      <td>Average total tuition, fees, room and board ra...</td>\n",
       "      <td>Average total tuition, fees, room and board ra...</td>\n",
       "      <td>Average total tuition, fees, room and board ra...</td>\n",
       "      <td>NaN</td>\n",
       "    </tr>\n",
       "    <tr>\n",
       "      <th>1</th>\n",
       "      <td>NaN</td>\n",
       "      <td>NaN</td>\n",
       "      <td>NaN</td>\n",
       "      <td>NaN</td>\n",
       "      <td>NaN</td>\n",
       "      <td>NaN</td>\n",
       "      <td>NaN</td>\n",
       "      <td>NaN</td>\n",
       "    </tr>\n",
       "    <tr>\n",
       "      <th>2</th>\n",
       "      <td>Year and control  of institution</td>\n",
       "      <td>Constant 2018–19 dollars1</td>\n",
       "      <td>Constant 2018–19 dollars1</td>\n",
       "      <td>Constant 2018–19 dollars1</td>\n",
       "      <td>Current dollars</td>\n",
       "      <td>Current dollars</td>\n",
       "      <td>Current dollars</td>\n",
       "      <td>NaN</td>\n",
       "    </tr>\n",
       "    <tr>\n",
       "      <th>3</th>\n",
       "      <td>Year and control  of institution</td>\n",
       "      <td>All institutions</td>\n",
       "      <td>All institutions</td>\n",
       "      <td>All institutions</td>\n",
       "      <td>All institutions</td>\n",
       "      <td>All institutions</td>\n",
       "      <td>All institutions</td>\n",
       "      <td>All institutions</td>\n",
       "    </tr>\n",
       "    <tr>\n",
       "      <th>4</th>\n",
       "      <td>1985–862</td>\n",
       "      <td>$11,369</td>\n",
       "      <td>$12,811</td>\n",
       "      <td>$7,836</td>\n",
       "      <td>$4,885</td>\n",
       "      <td>$5,504</td>\n",
       "      <td>$3,367</td>\n",
       "      <td>NaN</td>\n",
       "    </tr>\n",
       "    <tr>\n",
       "      <th>...</th>\n",
       "      <td>...</td>\n",
       "      <td>...</td>\n",
       "      <td>...</td>\n",
       "      <td>...</td>\n",
       "      <td>...</td>\n",
       "      <td>...</td>\n",
       "      <td>...</td>\n",
       "      <td>...</td>\n",
       "    </tr>\n",
       "    <tr>\n",
       "      <th>63</th>\n",
       "      <td>2014–15</td>\n",
       "      <td>40045</td>\n",
       "      <td>40651</td>\n",
       "      <td>26032</td>\n",
       "      <td>37422</td>\n",
       "      <td>37988</td>\n",
       "      <td>24327</td>\n",
       "      <td>NaN</td>\n",
       "    </tr>\n",
       "    <tr>\n",
       "      <th>64</th>\n",
       "      <td>2015–16</td>\n",
       "      <td>41472</td>\n",
       "      <td>42021</td>\n",
       "      <td>25909</td>\n",
       "      <td>39016</td>\n",
       "      <td>39534</td>\n",
       "      <td>24375</td>\n",
       "      <td>NaN</td>\n",
       "    </tr>\n",
       "    <tr>\n",
       "      <th>65</th>\n",
       "      <td>2016–17</td>\n",
       "      <td>42712</td>\n",
       "      <td>43279</td>\n",
       "      <td>25976</td>\n",
       "      <td>40922</td>\n",
       "      <td>41465</td>\n",
       "      <td>24888</td>\n",
       "      <td>NaN</td>\n",
       "    </tr>\n",
       "    <tr>\n",
       "      <th>66</th>\n",
       "      <td>2017–18</td>\n",
       "      <td>43557</td>\n",
       "      <td>44025</td>\n",
       "      <td>26126</td>\n",
       "      <td>42673</td>\n",
       "      <td>43131</td>\n",
       "      <td>25596</td>\n",
       "      <td>NaN</td>\n",
       "    </tr>\n",
       "    <tr>\n",
       "      <th>67</th>\n",
       "      <td>2018–19</td>\n",
       "      <td>44306</td>\n",
       "      <td>44662</td>\n",
       "      <td>28627</td>\n",
       "      <td>44306</td>\n",
       "      <td>44662</td>\n",
       "      <td>28627</td>\n",
       "      <td>NaN</td>\n",
       "    </tr>\n",
       "  </tbody>\n",
       "</table>\n",
       "<p>68 rows × 8 columns</p>\n",
       "</div>\n",
       "      <button class=\"colab-df-convert\" onclick=\"convertToInteractive('df-5bba2100-12c9-43d1-837c-315383e11753')\"\n",
       "              title=\"Convert this dataframe to an interactive table.\"\n",
       "              style=\"display:none;\">\n",
       "        \n",
       "  <svg xmlns=\"http://www.w3.org/2000/svg\" height=\"24px\"viewBox=\"0 0 24 24\"\n",
       "       width=\"24px\">\n",
       "    <path d=\"M0 0h24v24H0V0z\" fill=\"none\"/>\n",
       "    <path d=\"M18.56 5.44l.94 2.06.94-2.06 2.06-.94-2.06-.94-.94-2.06-.94 2.06-2.06.94zm-11 1L8.5 8.5l.94-2.06 2.06-.94-2.06-.94L8.5 2.5l-.94 2.06-2.06.94zm10 10l.94 2.06.94-2.06 2.06-.94-2.06-.94-.94-2.06-.94 2.06-2.06.94z\"/><path d=\"M17.41 7.96l-1.37-1.37c-.4-.4-.92-.59-1.43-.59-.52 0-1.04.2-1.43.59L10.3 9.45l-7.72 7.72c-.78.78-.78 2.05 0 2.83L4 21.41c.39.39.9.59 1.41.59.51 0 1.02-.2 1.41-.59l7.78-7.78 2.81-2.81c.8-.78.8-2.07 0-2.86zM5.41 20L4 18.59l7.72-7.72 1.47 1.35L5.41 20z\"/>\n",
       "  </svg>\n",
       "      </button>\n",
       "      \n",
       "  <style>\n",
       "    .colab-df-container {\n",
       "      display:flex;\n",
       "      flex-wrap:wrap;\n",
       "      gap: 12px;\n",
       "    }\n",
       "\n",
       "    .colab-df-convert {\n",
       "      background-color: #E8F0FE;\n",
       "      border: none;\n",
       "      border-radius: 50%;\n",
       "      cursor: pointer;\n",
       "      display: none;\n",
       "      fill: #1967D2;\n",
       "      height: 32px;\n",
       "      padding: 0 0 0 0;\n",
       "      width: 32px;\n",
       "    }\n",
       "\n",
       "    .colab-df-convert:hover {\n",
       "      background-color: #E2EBFA;\n",
       "      box-shadow: 0px 1px 2px rgba(60, 64, 67, 0.3), 0px 1px 3px 1px rgba(60, 64, 67, 0.15);\n",
       "      fill: #174EA6;\n",
       "    }\n",
       "\n",
       "    [theme=dark] .colab-df-convert {\n",
       "      background-color: #3B4455;\n",
       "      fill: #D2E3FC;\n",
       "    }\n",
       "\n",
       "    [theme=dark] .colab-df-convert:hover {\n",
       "      background-color: #434B5C;\n",
       "      box-shadow: 0px 1px 3px 1px rgba(0, 0, 0, 0.15);\n",
       "      filter: drop-shadow(0px 1px 2px rgba(0, 0, 0, 0.3));\n",
       "      fill: #FFFFFF;\n",
       "    }\n",
       "  </style>\n",
       "\n",
       "      <script>\n",
       "        const buttonEl =\n",
       "          document.querySelector('#df-5bba2100-12c9-43d1-837c-315383e11753 button.colab-df-convert');\n",
       "        buttonEl.style.display =\n",
       "          google.colab.kernel.accessAllowed ? 'block' : 'none';\n",
       "\n",
       "        async function convertToInteractive(key) {\n",
       "          const element = document.querySelector('#df-5bba2100-12c9-43d1-837c-315383e11753');\n",
       "          const dataTable =\n",
       "            await google.colab.kernel.invokeFunction('convertToInteractive',\n",
       "                                                     [key], {});\n",
       "          if (!dataTable) return;\n",
       "\n",
       "          const docLinkHtml = 'Like what you see? Visit the ' +\n",
       "            '<a target=\"_blank\" href=https://colab.research.google.com/notebooks/data_table.ipynb>data table notebook</a>'\n",
       "            + ' to learn more about interactive tables.';\n",
       "          element.innerHTML = '';\n",
       "          dataTable['output_type'] = 'display_data';\n",
       "          await google.colab.output.renderOutput(dataTable, element);\n",
       "          const docLink = document.createElement('div');\n",
       "          docLink.innerHTML = docLinkHtml;\n",
       "          element.appendChild(docLink);\n",
       "        }\n",
       "      </script>\n",
       "    </div>\n",
       "  </div>\n",
       "  "
      ],
      "text/plain": [
       "                                                    0  ...                 7\n",
       "0   Average total tuition, fees, room and board ra...  ...               NaN\n",
       "1                                                 NaN  ...               NaN\n",
       "2                    Year and control  of institution  ...               NaN\n",
       "3                    Year and control  of institution  ...  All institutions\n",
       "4                                            1985–862  ...               NaN\n",
       "..                                                ...  ...               ...\n",
       "63                                            2014–15  ...               NaN\n",
       "64                                            2015–16  ...               NaN\n",
       "65                                            2016–17  ...               NaN\n",
       "66                                            2017–18  ...               NaN\n",
       "67                                            2018–19  ...               NaN\n",
       "\n",
       "[68 rows x 8 columns]"
      ]
     },
     "metadata": {},
     "output_type": "display_data"
    }
   ],
   "source": [
    "import pandas as pd\n",
    "import numpy as np\n",
    "import requests as rq\n",
    "import matplotlib.pyplot as plt\n",
    "import matplotlib\n",
    "\n",
    "# Request from the site and scrape the table of tuitions from 1985 - 2019\n",
    "r = rq.get('https://nces.ed.gov/fastfacts/display.asp?id=76')\n",
    "\n",
    "tableIndex = r.text.find('<table')\n",
    "endTableIndex = r.text.find(\"</table>\")\n",
    "table = r.text[tableIndex:endTableIndex + len(\"</table>\")]\n",
    "#print(table)\n",
    "df = pd.read_html(table)\n",
    "df = df[0]\n",
    "display(df)"
   ]
  },
  {
   "cell_type": "markdown",
   "metadata": {
    "id": "h_ZbLMJ9gzOl"
   },
   "source": [
    "\n",
    "As you can see, this table is a mess. Column names are confusing, superscripts became normal numbers, and not all the data is formatted the same way (some have dollar signs).\n",
    "Let's try and clean this up as well as isolate the data we want to look at.\n",
    "\n",
    "Let's only analyze 4 year institutions and split them by private and public.\n",
    "First we seperate them into public and private univerities, extract the year into a uniform format, then extract the 4 year cost. We have to remove the dollar sign and comma from the first entry.\n",
    "Below is the resulting cleaned up table.\n"
   ]
  },
  {
   "cell_type": "code",
   "execution_count": 81,
   "metadata": {
    "colab": {
     "base_uri": "https://localhost:8080/",
     "height": 707
    },
    "id": "WmV-YIaGg3Ba",
    "outputId": "763b0763-b21e-45c0-f843-ea1a74b44351"
   },
   "outputs": [
    {
     "data": {
      "text/html": [
       "\n",
       "  <div id=\"df-3e7d100f-368d-4656-9dd2-b34705f23f72\">\n",
       "    <div class=\"colab-df-container\">\n",
       "      <div>\n",
       "<style scoped>\n",
       "    .dataframe tbody tr th:only-of-type {\n",
       "        vertical-align: middle;\n",
       "    }\n",
       "\n",
       "    .dataframe tbody tr th {\n",
       "        vertical-align: top;\n",
       "    }\n",
       "\n",
       "    .dataframe thead th {\n",
       "        text-align: right;\n",
       "    }\n",
       "</style>\n",
       "<table border=\"1\" class=\"dataframe\">\n",
       "  <thead>\n",
       "    <tr style=\"text-align: right;\">\n",
       "      <th></th>\n",
       "      <th>Annual Cost Of 4 Year Public Schools</th>\n",
       "      <th>Annual Cost Of 4 Year Private Schools</th>\n",
       "    </tr>\n",
       "    <tr>\n",
       "      <th>0</th>\n",
       "      <th></th>\n",
       "      <th></th>\n",
       "    </tr>\n",
       "  </thead>\n",
       "  <tbody>\n",
       "    <tr>\n",
       "      <th>1985</th>\n",
       "      <td>8312</td>\n",
       "      <td>20678</td>\n",
       "    </tr>\n",
       "    <tr>\n",
       "      <th>1995</th>\n",
       "      <td>10255</td>\n",
       "      <td>28209</td>\n",
       "    </tr>\n",
       "    <tr>\n",
       "      <th>2000</th>\n",
       "      <td>10973</td>\n",
       "      <td>30916</td>\n",
       "    </tr>\n",
       "    <tr>\n",
       "      <th>2001</th>\n",
       "      <td>11401</td>\n",
       "      <td>31857</td>\n",
       "    </tr>\n",
       "    <tr>\n",
       "      <th>2002</th>\n",
       "      <td>11824</td>\n",
       "      <td>32461</td>\n",
       "    </tr>\n",
       "    <tr>\n",
       "      <th>2003</th>\n",
       "      <td>12585</td>\n",
       "      <td>33513</td>\n",
       "    </tr>\n",
       "    <tr>\n",
       "      <th>2004</th>\n",
       "      <td>13033</td>\n",
       "      <td>34110</td>\n",
       "    </tr>\n",
       "    <tr>\n",
       "      <th>2005</th>\n",
       "      <td>13306</td>\n",
       "      <td>34247</td>\n",
       "    </tr>\n",
       "    <tr>\n",
       "      <th>2007</th>\n",
       "      <td>13842</td>\n",
       "      <td>35613</td>\n",
       "    </tr>\n",
       "    <tr>\n",
       "      <th>2008</th>\n",
       "      <td>14405</td>\n",
       "      <td>36298</td>\n",
       "    </tr>\n",
       "    <tr>\n",
       "      <th>2009</th>\n",
       "      <td>14980</td>\n",
       "      <td>36624</td>\n",
       "    </tr>\n",
       "    <tr>\n",
       "      <th>2010</th>\n",
       "      <td>15540</td>\n",
       "      <td>36515</td>\n",
       "    </tr>\n",
       "    <tr>\n",
       "      <th>2011</th>\n",
       "      <td>15980</td>\n",
       "      <td>36792</td>\n",
       "    </tr>\n",
       "    <tr>\n",
       "      <th>2012</th>\n",
       "      <td>16444</td>\n",
       "      <td>37750</td>\n",
       "    </tr>\n",
       "    <tr>\n",
       "      <th>2013</th>\n",
       "      <td>16846</td>\n",
       "      <td>38799</td>\n",
       "    </tr>\n",
       "    <tr>\n",
       "      <th>2014</th>\n",
       "      <td>17323</td>\n",
       "      <td>40045</td>\n",
       "    </tr>\n",
       "    <tr>\n",
       "      <th>2015</th>\n",
       "      <td>17821</td>\n",
       "      <td>41472</td>\n",
       "    </tr>\n",
       "    <tr>\n",
       "      <th>2016</th>\n",
       "      <td>17992</td>\n",
       "      <td>42712</td>\n",
       "    </tr>\n",
       "    <tr>\n",
       "      <th>2017</th>\n",
       "      <td>18163</td>\n",
       "      <td>43557</td>\n",
       "    </tr>\n",
       "    <tr>\n",
       "      <th>2018</th>\n",
       "      <td>18383</td>\n",
       "      <td>44306</td>\n",
       "    </tr>\n",
       "  </tbody>\n",
       "</table>\n",
       "</div>\n",
       "      <button class=\"colab-df-convert\" onclick=\"convertToInteractive('df-3e7d100f-368d-4656-9dd2-b34705f23f72')\"\n",
       "              title=\"Convert this dataframe to an interactive table.\"\n",
       "              style=\"display:none;\">\n",
       "        \n",
       "  <svg xmlns=\"http://www.w3.org/2000/svg\" height=\"24px\"viewBox=\"0 0 24 24\"\n",
       "       width=\"24px\">\n",
       "    <path d=\"M0 0h24v24H0V0z\" fill=\"none\"/>\n",
       "    <path d=\"M18.56 5.44l.94 2.06.94-2.06 2.06-.94-2.06-.94-.94-2.06-.94 2.06-2.06.94zm-11 1L8.5 8.5l.94-2.06 2.06-.94-2.06-.94L8.5 2.5l-.94 2.06-2.06.94zm10 10l.94 2.06.94-2.06 2.06-.94-2.06-.94-.94-2.06-.94 2.06-2.06.94z\"/><path d=\"M17.41 7.96l-1.37-1.37c-.4-.4-.92-.59-1.43-.59-.52 0-1.04.2-1.43.59L10.3 9.45l-7.72 7.72c-.78.78-.78 2.05 0 2.83L4 21.41c.39.39.9.59 1.41.59.51 0 1.02-.2 1.41-.59l7.78-7.78 2.81-2.81c.8-.78.8-2.07 0-2.86zM5.41 20L4 18.59l7.72-7.72 1.47 1.35L5.41 20z\"/>\n",
       "  </svg>\n",
       "      </button>\n",
       "      \n",
       "  <style>\n",
       "    .colab-df-container {\n",
       "      display:flex;\n",
       "      flex-wrap:wrap;\n",
       "      gap: 12px;\n",
       "    }\n",
       "\n",
       "    .colab-df-convert {\n",
       "      background-color: #E8F0FE;\n",
       "      border: none;\n",
       "      border-radius: 50%;\n",
       "      cursor: pointer;\n",
       "      display: none;\n",
       "      fill: #1967D2;\n",
       "      height: 32px;\n",
       "      padding: 0 0 0 0;\n",
       "      width: 32px;\n",
       "    }\n",
       "\n",
       "    .colab-df-convert:hover {\n",
       "      background-color: #E2EBFA;\n",
       "      box-shadow: 0px 1px 2px rgba(60, 64, 67, 0.3), 0px 1px 3px 1px rgba(60, 64, 67, 0.15);\n",
       "      fill: #174EA6;\n",
       "    }\n",
       "\n",
       "    [theme=dark] .colab-df-convert {\n",
       "      background-color: #3B4455;\n",
       "      fill: #D2E3FC;\n",
       "    }\n",
       "\n",
       "    [theme=dark] .colab-df-convert:hover {\n",
       "      background-color: #434B5C;\n",
       "      box-shadow: 0px 1px 3px 1px rgba(0, 0, 0, 0.15);\n",
       "      filter: drop-shadow(0px 1px 2px rgba(0, 0, 0, 0.3));\n",
       "      fill: #FFFFFF;\n",
       "    }\n",
       "  </style>\n",
       "\n",
       "      <script>\n",
       "        const buttonEl =\n",
       "          document.querySelector('#df-3e7d100f-368d-4656-9dd2-b34705f23f72 button.colab-df-convert');\n",
       "        buttonEl.style.display =\n",
       "          google.colab.kernel.accessAllowed ? 'block' : 'none';\n",
       "\n",
       "        async function convertToInteractive(key) {\n",
       "          const element = document.querySelector('#df-3e7d100f-368d-4656-9dd2-b34705f23f72');\n",
       "          const dataTable =\n",
       "            await google.colab.kernel.invokeFunction('convertToInteractive',\n",
       "                                                     [key], {});\n",
       "          if (!dataTable) return;\n",
       "\n",
       "          const docLinkHtml = 'Like what you see? Visit the ' +\n",
       "            '<a target=\"_blank\" href=https://colab.research.google.com/notebooks/data_table.ipynb>data table notebook</a>'\n",
       "            + ' to learn more about interactive tables.';\n",
       "          element.innerHTML = '';\n",
       "          dataTable['output_type'] = 'display_data';\n",
       "          await google.colab.output.renderOutput(dataTable, element);\n",
       "          const docLink = document.createElement('div');\n",
       "          docLink.innerHTML = docLinkHtml;\n",
       "          element.appendChild(docLink);\n",
       "        }\n",
       "      </script>\n",
       "    </div>\n",
       "  </div>\n",
       "  "
      ],
      "text/plain": [
       "     Annual Cost Of 4 Year Public Schools Annual Cost Of 4 Year Private Schools\n",
       "0                                                                              \n",
       "1985                                 8312                                 20678\n",
       "1995                                10255                                 28209\n",
       "2000                                10973                                 30916\n",
       "2001                                11401                                 31857\n",
       "2002                                11824                                 32461\n",
       "2003                                12585                                 33513\n",
       "2004                                13033                                 34110\n",
       "2005                                13306                                 34247\n",
       "2007                                13842                                 35613\n",
       "2008                                14405                                 36298\n",
       "2009                                14980                                 36624\n",
       "2010                                15540                                 36515\n",
       "2011                                15980                                 36792\n",
       "2012                                16444                                 37750\n",
       "2013                                16846                                 38799\n",
       "2014                                17323                                 40045\n",
       "2015                                17821                                 41472\n",
       "2016                                17992                                 42712\n",
       "2017                                18163                                 43557\n",
       "2018                                18383                                 44306"
      ]
     },
     "metadata": {},
     "output_type": "display_data"
    }
   ],
   "source": [
    "public = df[26:46]\n",
    "public4y = pd.DataFrame(index = public[0].map(lambda x: x[:4]))\n",
    "public4y[\"Annual Cost Of 4 Year Public Schools\"] = public[1].values\n",
    "public4y.loc[\"1985\",\"Annual Cost Of 4 Year Public Schools\"] = public4y.loc[\"1985\",\"Annual Cost Of 4 Year Public Schools\"].replace(\"$\",\"\").replace(\",\",\"\")\n",
    "public4y.loc[\"1985\",\"Annual Cost Of 4 Year Public Schools\"] = float(public4y.loc[\"1985\",\"Annual Cost Of 4 Year Public Schools\"])\n",
    "\n",
    "private = df[47:]\n",
    "private4y = pd.DataFrame(index = private[0].map(lambda x: x[:4]))\n",
    "private4y[\"Annual Cost Of 4 Year Private Schools\"] = private[1].values\n",
    "private4y.loc[\"1985\",\"Annual Cost Of 4 Year Private Schools\"] = private4y.loc[\"1985\",\"Annual Cost Of 4 Year Private Schools\"].replace(\"$\",\"\").replace(\",\",\"\")\n",
    "private4y.loc[\"1985\",\"Annual Cost Of 4 Year Private Schools\"] = float(private4y.loc[\"1985\",\"Annual Cost Of 4 Year Private Schools\"])\n",
    "\n",
    "cost4y = public4y.merge(private4y, left_index = True, right_index = True)\n",
    "display(cost4y)"
   ]
  },
  {
   "cell_type": "markdown",
   "metadata": {
    "id": "8xI_iW7lH1pn"
   },
   "source": [
    "Using statistics from the US department of labor (https://www.dol.gov/agencies/whd/minimum-wage/history/chart), we can construct a table of the federal minimum wages over the years we have data for college expenses. We have to do this manually per year to fit our college expenses data.\n",
    "\n",
    "\n",
    "1985 - $3.35/Hr\n",
    "\n",
    "1995 - $3.80/Hr\n",
    "\n",
    "2000-2007 - $5.15/Hr\n",
    "\n",
    "2007-2008 - $5.85/Hr\n",
    "\n",
    "2008-2009 - $6.55/Hr\n",
    "\n",
    "2009- Present - $7.25/Hr\n",
    "\n",
    "Below is the minimum wage table."
   ]
  },
  {
   "cell_type": "code",
   "execution_count": 82,
   "metadata": {
    "colab": {
     "base_uri": "https://localhost:8080/",
     "height": 676
    },
    "id": "ueQ5KDuyhItN",
    "outputId": "69dbacf5-1d47-4c9d-980e-429046588e29"
   },
   "outputs": [
    {
     "data": {
      "text/html": [
       "\n",
       "  <div id=\"df-82538b02-a3a5-47c0-ba5b-1f2f62ac9240\">\n",
       "    <div class=\"colab-df-container\">\n",
       "      <div>\n",
       "<style scoped>\n",
       "    .dataframe tbody tr th:only-of-type {\n",
       "        vertical-align: middle;\n",
       "    }\n",
       "\n",
       "    .dataframe tbody tr th {\n",
       "        vertical-align: top;\n",
       "    }\n",
       "\n",
       "    .dataframe thead th {\n",
       "        text-align: right;\n",
       "    }\n",
       "</style>\n",
       "<table border=\"1\" class=\"dataframe\">\n",
       "  <thead>\n",
       "    <tr style=\"text-align: right;\">\n",
       "      <th></th>\n",
       "      <th>Minimum Wage</th>\n",
       "    </tr>\n",
       "  </thead>\n",
       "  <tbody>\n",
       "    <tr>\n",
       "      <th>1985</th>\n",
       "      <td>3.35</td>\n",
       "    </tr>\n",
       "    <tr>\n",
       "      <th>1995</th>\n",
       "      <td>3.80</td>\n",
       "    </tr>\n",
       "    <tr>\n",
       "      <th>2000</th>\n",
       "      <td>5.15</td>\n",
       "    </tr>\n",
       "    <tr>\n",
       "      <th>2001</th>\n",
       "      <td>5.15</td>\n",
       "    </tr>\n",
       "    <tr>\n",
       "      <th>2002</th>\n",
       "      <td>5.15</td>\n",
       "    </tr>\n",
       "    <tr>\n",
       "      <th>2003</th>\n",
       "      <td>5.15</td>\n",
       "    </tr>\n",
       "    <tr>\n",
       "      <th>2004</th>\n",
       "      <td>5.15</td>\n",
       "    </tr>\n",
       "    <tr>\n",
       "      <th>2005</th>\n",
       "      <td>5.15</td>\n",
       "    </tr>\n",
       "    <tr>\n",
       "      <th>2007</th>\n",
       "      <td>5.15</td>\n",
       "    </tr>\n",
       "    <tr>\n",
       "      <th>2008</th>\n",
       "      <td>5.85</td>\n",
       "    </tr>\n",
       "    <tr>\n",
       "      <th>2009</th>\n",
       "      <td>6.55</td>\n",
       "    </tr>\n",
       "    <tr>\n",
       "      <th>2010</th>\n",
       "      <td>7.25</td>\n",
       "    </tr>\n",
       "    <tr>\n",
       "      <th>2011</th>\n",
       "      <td>7.25</td>\n",
       "    </tr>\n",
       "    <tr>\n",
       "      <th>2012</th>\n",
       "      <td>7.25</td>\n",
       "    </tr>\n",
       "    <tr>\n",
       "      <th>2013</th>\n",
       "      <td>7.25</td>\n",
       "    </tr>\n",
       "    <tr>\n",
       "      <th>2014</th>\n",
       "      <td>7.25</td>\n",
       "    </tr>\n",
       "    <tr>\n",
       "      <th>2015</th>\n",
       "      <td>7.25</td>\n",
       "    </tr>\n",
       "    <tr>\n",
       "      <th>2016</th>\n",
       "      <td>7.25</td>\n",
       "    </tr>\n",
       "    <tr>\n",
       "      <th>2017</th>\n",
       "      <td>7.25</td>\n",
       "    </tr>\n",
       "    <tr>\n",
       "      <th>2018</th>\n",
       "      <td>7.25</td>\n",
       "    </tr>\n",
       "  </tbody>\n",
       "</table>\n",
       "</div>\n",
       "      <button class=\"colab-df-convert\" onclick=\"convertToInteractive('df-82538b02-a3a5-47c0-ba5b-1f2f62ac9240')\"\n",
       "              title=\"Convert this dataframe to an interactive table.\"\n",
       "              style=\"display:none;\">\n",
       "        \n",
       "  <svg xmlns=\"http://www.w3.org/2000/svg\" height=\"24px\"viewBox=\"0 0 24 24\"\n",
       "       width=\"24px\">\n",
       "    <path d=\"M0 0h24v24H0V0z\" fill=\"none\"/>\n",
       "    <path d=\"M18.56 5.44l.94 2.06.94-2.06 2.06-.94-2.06-.94-.94-2.06-.94 2.06-2.06.94zm-11 1L8.5 8.5l.94-2.06 2.06-.94-2.06-.94L8.5 2.5l-.94 2.06-2.06.94zm10 10l.94 2.06.94-2.06 2.06-.94-2.06-.94-.94-2.06-.94 2.06-2.06.94z\"/><path d=\"M17.41 7.96l-1.37-1.37c-.4-.4-.92-.59-1.43-.59-.52 0-1.04.2-1.43.59L10.3 9.45l-7.72 7.72c-.78.78-.78 2.05 0 2.83L4 21.41c.39.39.9.59 1.41.59.51 0 1.02-.2 1.41-.59l7.78-7.78 2.81-2.81c.8-.78.8-2.07 0-2.86zM5.41 20L4 18.59l7.72-7.72 1.47 1.35L5.41 20z\"/>\n",
       "  </svg>\n",
       "      </button>\n",
       "      \n",
       "  <style>\n",
       "    .colab-df-container {\n",
       "      display:flex;\n",
       "      flex-wrap:wrap;\n",
       "      gap: 12px;\n",
       "    }\n",
       "\n",
       "    .colab-df-convert {\n",
       "      background-color: #E8F0FE;\n",
       "      border: none;\n",
       "      border-radius: 50%;\n",
       "      cursor: pointer;\n",
       "      display: none;\n",
       "      fill: #1967D2;\n",
       "      height: 32px;\n",
       "      padding: 0 0 0 0;\n",
       "      width: 32px;\n",
       "    }\n",
       "\n",
       "    .colab-df-convert:hover {\n",
       "      background-color: #E2EBFA;\n",
       "      box-shadow: 0px 1px 2px rgba(60, 64, 67, 0.3), 0px 1px 3px 1px rgba(60, 64, 67, 0.15);\n",
       "      fill: #174EA6;\n",
       "    }\n",
       "\n",
       "    [theme=dark] .colab-df-convert {\n",
       "      background-color: #3B4455;\n",
       "      fill: #D2E3FC;\n",
       "    }\n",
       "\n",
       "    [theme=dark] .colab-df-convert:hover {\n",
       "      background-color: #434B5C;\n",
       "      box-shadow: 0px 1px 3px 1px rgba(0, 0, 0, 0.15);\n",
       "      filter: drop-shadow(0px 1px 2px rgba(0, 0, 0, 0.3));\n",
       "      fill: #FFFFFF;\n",
       "    }\n",
       "  </style>\n",
       "\n",
       "      <script>\n",
       "        const buttonEl =\n",
       "          document.querySelector('#df-82538b02-a3a5-47c0-ba5b-1f2f62ac9240 button.colab-df-convert');\n",
       "        buttonEl.style.display =\n",
       "          google.colab.kernel.accessAllowed ? 'block' : 'none';\n",
       "\n",
       "        async function convertToInteractive(key) {\n",
       "          const element = document.querySelector('#df-82538b02-a3a5-47c0-ba5b-1f2f62ac9240');\n",
       "          const dataTable =\n",
       "            await google.colab.kernel.invokeFunction('convertToInteractive',\n",
       "                                                     [key], {});\n",
       "          if (!dataTable) return;\n",
       "\n",
       "          const docLinkHtml = 'Like what you see? Visit the ' +\n",
       "            '<a target=\"_blank\" href=https://colab.research.google.com/notebooks/data_table.ipynb>data table notebook</a>'\n",
       "            + ' to learn more about interactive tables.';\n",
       "          element.innerHTML = '';\n",
       "          dataTable['output_type'] = 'display_data';\n",
       "          await google.colab.output.renderOutput(dataTable, element);\n",
       "          const docLink = document.createElement('div');\n",
       "          docLink.innerHTML = docLinkHtml;\n",
       "          element.appendChild(docLink);\n",
       "        }\n",
       "      </script>\n",
       "    </div>\n",
       "  </div>\n",
       "  "
      ],
      "text/plain": [
       "      Minimum Wage\n",
       "1985          3.35\n",
       "1995          3.80\n",
       "2000          5.15\n",
       "2001          5.15\n",
       "2002          5.15\n",
       "2003          5.15\n",
       "2004          5.15\n",
       "2005          5.15\n",
       "2007          5.15\n",
       "2008          5.85\n",
       "2009          6.55\n",
       "2010          7.25\n",
       "2011          7.25\n",
       "2012          7.25\n",
       "2013          7.25\n",
       "2014          7.25\n",
       "2015          7.25\n",
       "2016          7.25\n",
       "2017          7.25\n",
       "2018          7.25"
      ]
     },
     "metadata": {},
     "output_type": "display_data"
    }
   ],
   "source": [
    "# Extract the years\n",
    "years = list(public4y.index)\n",
    "# Create the array to hold the min wages \n",
    "minWages = [0]*len(years)\n",
    "# Set the minimum wages to the corresponding years\n",
    "minWages[0] = 3.35\n",
    "minWages[1] = 3.80\n",
    "minWages[2:9] = [5.15]*len(minWages[2:9])\n",
    "minWages[9] = 5.85\n",
    "minWages[10] = 6.55\n",
    "minWages[11:] = [7.25]*len(minWages[11:])\n",
    "minWagePerYear = pd.DataFrame(index = years)\n",
    "minWagePerYear[\"Minimum Wage\"] = minWages\n",
    "display(minWagePerYear)"
   ]
  },
  {
   "cell_type": "markdown",
   "metadata": {
    "id": "J07i2KIvTsXg"
   },
   "source": [
    "We can now merge this table with the college expenses table to make a table showing the minumum wage over the years and the costs of attending private and public colleges during those years."
   ]
  },
  {
   "cell_type": "code",
   "execution_count": 83,
   "metadata": {
    "colab": {
     "base_uri": "https://localhost:8080/",
     "height": 707
    },
    "id": "x4B7ocVyR9ag",
    "outputId": "bf9f544c-52ca-4a3a-cf4e-3519a5e20bcd"
   },
   "outputs": [
    {
     "data": {
      "text/html": [
       "\n",
       "  <div id=\"df-3d0eb97a-1314-4918-8d60-46aea81a227f\">\n",
       "    <div class=\"colab-df-container\">\n",
       "      <div>\n",
       "<style scoped>\n",
       "    .dataframe tbody tr th:only-of-type {\n",
       "        vertical-align: middle;\n",
       "    }\n",
       "\n",
       "    .dataframe tbody tr th {\n",
       "        vertical-align: top;\n",
       "    }\n",
       "\n",
       "    .dataframe thead th {\n",
       "        text-align: right;\n",
       "    }\n",
       "</style>\n",
       "<table border=\"1\" class=\"dataframe\">\n",
       "  <thead>\n",
       "    <tr style=\"text-align: right;\">\n",
       "      <th></th>\n",
       "      <th>Annual Cost Of 4 Year Public Schools</th>\n",
       "      <th>Annual Cost Of 4 Year Private Schools</th>\n",
       "      <th>Minimum Wage</th>\n",
       "    </tr>\n",
       "    <tr>\n",
       "      <th>0</th>\n",
       "      <th></th>\n",
       "      <th></th>\n",
       "      <th></th>\n",
       "    </tr>\n",
       "  </thead>\n",
       "  <tbody>\n",
       "    <tr>\n",
       "      <th>1985</th>\n",
       "      <td>8312</td>\n",
       "      <td>20678</td>\n",
       "      <td>3.35</td>\n",
       "    </tr>\n",
       "    <tr>\n",
       "      <th>1995</th>\n",
       "      <td>10255</td>\n",
       "      <td>28209</td>\n",
       "      <td>3.80</td>\n",
       "    </tr>\n",
       "    <tr>\n",
       "      <th>2000</th>\n",
       "      <td>10973</td>\n",
       "      <td>30916</td>\n",
       "      <td>5.15</td>\n",
       "    </tr>\n",
       "    <tr>\n",
       "      <th>2001</th>\n",
       "      <td>11401</td>\n",
       "      <td>31857</td>\n",
       "      <td>5.15</td>\n",
       "    </tr>\n",
       "    <tr>\n",
       "      <th>2002</th>\n",
       "      <td>11824</td>\n",
       "      <td>32461</td>\n",
       "      <td>5.15</td>\n",
       "    </tr>\n",
       "    <tr>\n",
       "      <th>2003</th>\n",
       "      <td>12585</td>\n",
       "      <td>33513</td>\n",
       "      <td>5.15</td>\n",
       "    </tr>\n",
       "    <tr>\n",
       "      <th>2004</th>\n",
       "      <td>13033</td>\n",
       "      <td>34110</td>\n",
       "      <td>5.15</td>\n",
       "    </tr>\n",
       "    <tr>\n",
       "      <th>2005</th>\n",
       "      <td>13306</td>\n",
       "      <td>34247</td>\n",
       "      <td>5.15</td>\n",
       "    </tr>\n",
       "    <tr>\n",
       "      <th>2007</th>\n",
       "      <td>13842</td>\n",
       "      <td>35613</td>\n",
       "      <td>5.15</td>\n",
       "    </tr>\n",
       "    <tr>\n",
       "      <th>2008</th>\n",
       "      <td>14405</td>\n",
       "      <td>36298</td>\n",
       "      <td>5.85</td>\n",
       "    </tr>\n",
       "    <tr>\n",
       "      <th>2009</th>\n",
       "      <td>14980</td>\n",
       "      <td>36624</td>\n",
       "      <td>6.55</td>\n",
       "    </tr>\n",
       "    <tr>\n",
       "      <th>2010</th>\n",
       "      <td>15540</td>\n",
       "      <td>36515</td>\n",
       "      <td>7.25</td>\n",
       "    </tr>\n",
       "    <tr>\n",
       "      <th>2011</th>\n",
       "      <td>15980</td>\n",
       "      <td>36792</td>\n",
       "      <td>7.25</td>\n",
       "    </tr>\n",
       "    <tr>\n",
       "      <th>2012</th>\n",
       "      <td>16444</td>\n",
       "      <td>37750</td>\n",
       "      <td>7.25</td>\n",
       "    </tr>\n",
       "    <tr>\n",
       "      <th>2013</th>\n",
       "      <td>16846</td>\n",
       "      <td>38799</td>\n",
       "      <td>7.25</td>\n",
       "    </tr>\n",
       "    <tr>\n",
       "      <th>2014</th>\n",
       "      <td>17323</td>\n",
       "      <td>40045</td>\n",
       "      <td>7.25</td>\n",
       "    </tr>\n",
       "    <tr>\n",
       "      <th>2015</th>\n",
       "      <td>17821</td>\n",
       "      <td>41472</td>\n",
       "      <td>7.25</td>\n",
       "    </tr>\n",
       "    <tr>\n",
       "      <th>2016</th>\n",
       "      <td>17992</td>\n",
       "      <td>42712</td>\n",
       "      <td>7.25</td>\n",
       "    </tr>\n",
       "    <tr>\n",
       "      <th>2017</th>\n",
       "      <td>18163</td>\n",
       "      <td>43557</td>\n",
       "      <td>7.25</td>\n",
       "    </tr>\n",
       "    <tr>\n",
       "      <th>2018</th>\n",
       "      <td>18383</td>\n",
       "      <td>44306</td>\n",
       "      <td>7.25</td>\n",
       "    </tr>\n",
       "  </tbody>\n",
       "</table>\n",
       "</div>\n",
       "      <button class=\"colab-df-convert\" onclick=\"convertToInteractive('df-3d0eb97a-1314-4918-8d60-46aea81a227f')\"\n",
       "              title=\"Convert this dataframe to an interactive table.\"\n",
       "              style=\"display:none;\">\n",
       "        \n",
       "  <svg xmlns=\"http://www.w3.org/2000/svg\" height=\"24px\"viewBox=\"0 0 24 24\"\n",
       "       width=\"24px\">\n",
       "    <path d=\"M0 0h24v24H0V0z\" fill=\"none\"/>\n",
       "    <path d=\"M18.56 5.44l.94 2.06.94-2.06 2.06-.94-2.06-.94-.94-2.06-.94 2.06-2.06.94zm-11 1L8.5 8.5l.94-2.06 2.06-.94-2.06-.94L8.5 2.5l-.94 2.06-2.06.94zm10 10l.94 2.06.94-2.06 2.06-.94-2.06-.94-.94-2.06-.94 2.06-2.06.94z\"/><path d=\"M17.41 7.96l-1.37-1.37c-.4-.4-.92-.59-1.43-.59-.52 0-1.04.2-1.43.59L10.3 9.45l-7.72 7.72c-.78.78-.78 2.05 0 2.83L4 21.41c.39.39.9.59 1.41.59.51 0 1.02-.2 1.41-.59l7.78-7.78 2.81-2.81c.8-.78.8-2.07 0-2.86zM5.41 20L4 18.59l7.72-7.72 1.47 1.35L5.41 20z\"/>\n",
       "  </svg>\n",
       "      </button>\n",
       "      \n",
       "  <style>\n",
       "    .colab-df-container {\n",
       "      display:flex;\n",
       "      flex-wrap:wrap;\n",
       "      gap: 12px;\n",
       "    }\n",
       "\n",
       "    .colab-df-convert {\n",
       "      background-color: #E8F0FE;\n",
       "      border: none;\n",
       "      border-radius: 50%;\n",
       "      cursor: pointer;\n",
       "      display: none;\n",
       "      fill: #1967D2;\n",
       "      height: 32px;\n",
       "      padding: 0 0 0 0;\n",
       "      width: 32px;\n",
       "    }\n",
       "\n",
       "    .colab-df-convert:hover {\n",
       "      background-color: #E2EBFA;\n",
       "      box-shadow: 0px 1px 2px rgba(60, 64, 67, 0.3), 0px 1px 3px 1px rgba(60, 64, 67, 0.15);\n",
       "      fill: #174EA6;\n",
       "    }\n",
       "\n",
       "    [theme=dark] .colab-df-convert {\n",
       "      background-color: #3B4455;\n",
       "      fill: #D2E3FC;\n",
       "    }\n",
       "\n",
       "    [theme=dark] .colab-df-convert:hover {\n",
       "      background-color: #434B5C;\n",
       "      box-shadow: 0px 1px 3px 1px rgba(0, 0, 0, 0.15);\n",
       "      filter: drop-shadow(0px 1px 2px rgba(0, 0, 0, 0.3));\n",
       "      fill: #FFFFFF;\n",
       "    }\n",
       "  </style>\n",
       "\n",
       "      <script>\n",
       "        const buttonEl =\n",
       "          document.querySelector('#df-3d0eb97a-1314-4918-8d60-46aea81a227f button.colab-df-convert');\n",
       "        buttonEl.style.display =\n",
       "          google.colab.kernel.accessAllowed ? 'block' : 'none';\n",
       "\n",
       "        async function convertToInteractive(key) {\n",
       "          const element = document.querySelector('#df-3d0eb97a-1314-4918-8d60-46aea81a227f');\n",
       "          const dataTable =\n",
       "            await google.colab.kernel.invokeFunction('convertToInteractive',\n",
       "                                                     [key], {});\n",
       "          if (!dataTable) return;\n",
       "\n",
       "          const docLinkHtml = 'Like what you see? Visit the ' +\n",
       "            '<a target=\"_blank\" href=https://colab.research.google.com/notebooks/data_table.ipynb>data table notebook</a>'\n",
       "            + ' to learn more about interactive tables.';\n",
       "          element.innerHTML = '';\n",
       "          dataTable['output_type'] = 'display_data';\n",
       "          await google.colab.output.renderOutput(dataTable, element);\n",
       "          const docLink = document.createElement('div');\n",
       "          docLink.innerHTML = docLinkHtml;\n",
       "          element.appendChild(docLink);\n",
       "        }\n",
       "      </script>\n",
       "    </div>\n",
       "  </div>\n",
       "  "
      ],
      "text/plain": [
       "     Annual Cost Of 4 Year Public Schools  ... Minimum Wage\n",
       "0                                          ...             \n",
       "1985                                 8312  ...         3.35\n",
       "1995                                10255  ...         3.80\n",
       "2000                                10973  ...         5.15\n",
       "2001                                11401  ...         5.15\n",
       "2002                                11824  ...         5.15\n",
       "2003                                12585  ...         5.15\n",
       "2004                                13033  ...         5.15\n",
       "2005                                13306  ...         5.15\n",
       "2007                                13842  ...         5.15\n",
       "2008                                14405  ...         5.85\n",
       "2009                                14980  ...         6.55\n",
       "2010                                15540  ...         7.25\n",
       "2011                                15980  ...         7.25\n",
       "2012                                16444  ...         7.25\n",
       "2013                                16846  ...         7.25\n",
       "2014                                17323  ...         7.25\n",
       "2015                                17821  ...         7.25\n",
       "2016                                17992  ...         7.25\n",
       "2017                                18163  ...         7.25\n",
       "2018                                18383  ...         7.25\n",
       "\n",
       "[20 rows x 3 columns]"
      ]
     },
     "metadata": {},
     "output_type": "display_data"
    }
   ],
   "source": [
    "finalTable = cost4y.merge(minWagePerYear, left_index = True, right_index = True)\n",
    "display(finalTable)"
   ]
  },
  {
   "cell_type": "markdown",
   "metadata": {
    "id": "Gj0OLOVQlz27"
   },
   "source": [
    "With this, we have finished our data curation."
   ]
  },
  {
   "cell_type": "markdown",
   "metadata": {
    "id": "DEUS2lBbWiyB"
   },
   "source": [
    "# 3. Exploratory Analysis\n",
    "With our Data Gathered, we can do an Exploratory Analysis"
   ]
  },
  {
   "cell_type": "markdown",
   "metadata": {
    "id": "UrApGjRDWucv"
   },
   "source": [
    "# 3a. Hours of work needed to pay for college\n",
    "\n",
    "First, we can calculate how many hours of working a minimum wage job it would take to pay off the fees each year at school."
   ]
  },
  {
   "cell_type": "code",
   "execution_count": 84,
   "metadata": {
    "colab": {
     "base_uri": "https://localhost:8080/",
     "height": 769
    },
    "id": "y0K3JwsBXaxe",
    "outputId": "3d6be38c-3238-41f1-d9c2-b79f378cb9e8"
   },
   "outputs": [
    {
     "data": {
      "text/html": [
       "\n",
       "  <div id=\"df-eea3b529-ef4d-4831-bdf2-8cdb354f6452\">\n",
       "    <div class=\"colab-df-container\">\n",
       "      <div>\n",
       "<style scoped>\n",
       "    .dataframe tbody tr th:only-of-type {\n",
       "        vertical-align: middle;\n",
       "    }\n",
       "\n",
       "    .dataframe tbody tr th {\n",
       "        vertical-align: top;\n",
       "    }\n",
       "\n",
       "    .dataframe thead th {\n",
       "        text-align: right;\n",
       "    }\n",
       "</style>\n",
       "<table border=\"1\" class=\"dataframe\">\n",
       "  <thead>\n",
       "    <tr style=\"text-align: right;\">\n",
       "      <th></th>\n",
       "      <th>Annual Cost Of 4 Year Public Schools</th>\n",
       "      <th>Annual Cost Of 4 Year Private Schools</th>\n",
       "      <th>Minimum Wage</th>\n",
       "      <th>Hours Worked to Pay for Public School</th>\n",
       "      <th>Hours Worked to Pay for Private School</th>\n",
       "    </tr>\n",
       "    <tr>\n",
       "      <th>0</th>\n",
       "      <th></th>\n",
       "      <th></th>\n",
       "      <th></th>\n",
       "      <th></th>\n",
       "      <th></th>\n",
       "    </tr>\n",
       "  </thead>\n",
       "  <tbody>\n",
       "    <tr>\n",
       "      <th>1985</th>\n",
       "      <td>8312</td>\n",
       "      <td>20678</td>\n",
       "      <td>3.35</td>\n",
       "      <td>2481.194030</td>\n",
       "      <td>6172.537313</td>\n",
       "    </tr>\n",
       "    <tr>\n",
       "      <th>1995</th>\n",
       "      <td>10255</td>\n",
       "      <td>28209</td>\n",
       "      <td>3.80</td>\n",
       "      <td>2698.684211</td>\n",
       "      <td>7423.421053</td>\n",
       "    </tr>\n",
       "    <tr>\n",
       "      <th>2000</th>\n",
       "      <td>10973</td>\n",
       "      <td>30916</td>\n",
       "      <td>5.15</td>\n",
       "      <td>2130.679612</td>\n",
       "      <td>6003.106796</td>\n",
       "    </tr>\n",
       "    <tr>\n",
       "      <th>2001</th>\n",
       "      <td>11401</td>\n",
       "      <td>31857</td>\n",
       "      <td>5.15</td>\n",
       "      <td>2213.786408</td>\n",
       "      <td>6185.825243</td>\n",
       "    </tr>\n",
       "    <tr>\n",
       "      <th>2002</th>\n",
       "      <td>11824</td>\n",
       "      <td>32461</td>\n",
       "      <td>5.15</td>\n",
       "      <td>2295.922330</td>\n",
       "      <td>6303.106796</td>\n",
       "    </tr>\n",
       "    <tr>\n",
       "      <th>2003</th>\n",
       "      <td>12585</td>\n",
       "      <td>33513</td>\n",
       "      <td>5.15</td>\n",
       "      <td>2443.689320</td>\n",
       "      <td>6507.378641</td>\n",
       "    </tr>\n",
       "    <tr>\n",
       "      <th>2004</th>\n",
       "      <td>13033</td>\n",
       "      <td>34110</td>\n",
       "      <td>5.15</td>\n",
       "      <td>2530.679612</td>\n",
       "      <td>6623.300971</td>\n",
       "    </tr>\n",
       "    <tr>\n",
       "      <th>2005</th>\n",
       "      <td>13306</td>\n",
       "      <td>34247</td>\n",
       "      <td>5.15</td>\n",
       "      <td>2583.689320</td>\n",
       "      <td>6649.902913</td>\n",
       "    </tr>\n",
       "    <tr>\n",
       "      <th>2007</th>\n",
       "      <td>13842</td>\n",
       "      <td>35613</td>\n",
       "      <td>5.15</td>\n",
       "      <td>2687.766990</td>\n",
       "      <td>6915.145631</td>\n",
       "    </tr>\n",
       "    <tr>\n",
       "      <th>2008</th>\n",
       "      <td>14405</td>\n",
       "      <td>36298</td>\n",
       "      <td>5.85</td>\n",
       "      <td>2462.393162</td>\n",
       "      <td>6204.786325</td>\n",
       "    </tr>\n",
       "    <tr>\n",
       "      <th>2009</th>\n",
       "      <td>14980</td>\n",
       "      <td>36624</td>\n",
       "      <td>6.55</td>\n",
       "      <td>2287.022901</td>\n",
       "      <td>5591.450382</td>\n",
       "    </tr>\n",
       "    <tr>\n",
       "      <th>2010</th>\n",
       "      <td>15540</td>\n",
       "      <td>36515</td>\n",
       "      <td>7.25</td>\n",
       "      <td>2143.448276</td>\n",
       "      <td>5036.551724</td>\n",
       "    </tr>\n",
       "    <tr>\n",
       "      <th>2011</th>\n",
       "      <td>15980</td>\n",
       "      <td>36792</td>\n",
       "      <td>7.25</td>\n",
       "      <td>2204.137931</td>\n",
       "      <td>5074.758621</td>\n",
       "    </tr>\n",
       "    <tr>\n",
       "      <th>2012</th>\n",
       "      <td>16444</td>\n",
       "      <td>37750</td>\n",
       "      <td>7.25</td>\n",
       "      <td>2268.137931</td>\n",
       "      <td>5206.896552</td>\n",
       "    </tr>\n",
       "    <tr>\n",
       "      <th>2013</th>\n",
       "      <td>16846</td>\n",
       "      <td>38799</td>\n",
       "      <td>7.25</td>\n",
       "      <td>2323.586207</td>\n",
       "      <td>5351.586207</td>\n",
       "    </tr>\n",
       "    <tr>\n",
       "      <th>2014</th>\n",
       "      <td>17323</td>\n",
       "      <td>40045</td>\n",
       "      <td>7.25</td>\n",
       "      <td>2389.379310</td>\n",
       "      <td>5523.448276</td>\n",
       "    </tr>\n",
       "    <tr>\n",
       "      <th>2015</th>\n",
       "      <td>17821</td>\n",
       "      <td>41472</td>\n",
       "      <td>7.25</td>\n",
       "      <td>2458.068966</td>\n",
       "      <td>5720.275862</td>\n",
       "    </tr>\n",
       "    <tr>\n",
       "      <th>2016</th>\n",
       "      <td>17992</td>\n",
       "      <td>42712</td>\n",
       "      <td>7.25</td>\n",
       "      <td>2481.655172</td>\n",
       "      <td>5891.310345</td>\n",
       "    </tr>\n",
       "    <tr>\n",
       "      <th>2017</th>\n",
       "      <td>18163</td>\n",
       "      <td>43557</td>\n",
       "      <td>7.25</td>\n",
       "      <td>2505.241379</td>\n",
       "      <td>6007.862069</td>\n",
       "    </tr>\n",
       "    <tr>\n",
       "      <th>2018</th>\n",
       "      <td>18383</td>\n",
       "      <td>44306</td>\n",
       "      <td>7.25</td>\n",
       "      <td>2535.586207</td>\n",
       "      <td>6111.172414</td>\n",
       "    </tr>\n",
       "  </tbody>\n",
       "</table>\n",
       "</div>\n",
       "      <button class=\"colab-df-convert\" onclick=\"convertToInteractive('df-eea3b529-ef4d-4831-bdf2-8cdb354f6452')\"\n",
       "              title=\"Convert this dataframe to an interactive table.\"\n",
       "              style=\"display:none;\">\n",
       "        \n",
       "  <svg xmlns=\"http://www.w3.org/2000/svg\" height=\"24px\"viewBox=\"0 0 24 24\"\n",
       "       width=\"24px\">\n",
       "    <path d=\"M0 0h24v24H0V0z\" fill=\"none\"/>\n",
       "    <path d=\"M18.56 5.44l.94 2.06.94-2.06 2.06-.94-2.06-.94-.94-2.06-.94 2.06-2.06.94zm-11 1L8.5 8.5l.94-2.06 2.06-.94-2.06-.94L8.5 2.5l-.94 2.06-2.06.94zm10 10l.94 2.06.94-2.06 2.06-.94-2.06-.94-.94-2.06-.94 2.06-2.06.94z\"/><path d=\"M17.41 7.96l-1.37-1.37c-.4-.4-.92-.59-1.43-.59-.52 0-1.04.2-1.43.59L10.3 9.45l-7.72 7.72c-.78.78-.78 2.05 0 2.83L4 21.41c.39.39.9.59 1.41.59.51 0 1.02-.2 1.41-.59l7.78-7.78 2.81-2.81c.8-.78.8-2.07 0-2.86zM5.41 20L4 18.59l7.72-7.72 1.47 1.35L5.41 20z\"/>\n",
       "  </svg>\n",
       "      </button>\n",
       "      \n",
       "  <style>\n",
       "    .colab-df-container {\n",
       "      display:flex;\n",
       "      flex-wrap:wrap;\n",
       "      gap: 12px;\n",
       "    }\n",
       "\n",
       "    .colab-df-convert {\n",
       "      background-color: #E8F0FE;\n",
       "      border: none;\n",
       "      border-radius: 50%;\n",
       "      cursor: pointer;\n",
       "      display: none;\n",
       "      fill: #1967D2;\n",
       "      height: 32px;\n",
       "      padding: 0 0 0 0;\n",
       "      width: 32px;\n",
       "    }\n",
       "\n",
       "    .colab-df-convert:hover {\n",
       "      background-color: #E2EBFA;\n",
       "      box-shadow: 0px 1px 2px rgba(60, 64, 67, 0.3), 0px 1px 3px 1px rgba(60, 64, 67, 0.15);\n",
       "      fill: #174EA6;\n",
       "    }\n",
       "\n",
       "    [theme=dark] .colab-df-convert {\n",
       "      background-color: #3B4455;\n",
       "      fill: #D2E3FC;\n",
       "    }\n",
       "\n",
       "    [theme=dark] .colab-df-convert:hover {\n",
       "      background-color: #434B5C;\n",
       "      box-shadow: 0px 1px 3px 1px rgba(0, 0, 0, 0.15);\n",
       "      filter: drop-shadow(0px 1px 2px rgba(0, 0, 0, 0.3));\n",
       "      fill: #FFFFFF;\n",
       "    }\n",
       "  </style>\n",
       "\n",
       "      <script>\n",
       "        const buttonEl =\n",
       "          document.querySelector('#df-eea3b529-ef4d-4831-bdf2-8cdb354f6452 button.colab-df-convert');\n",
       "        buttonEl.style.display =\n",
       "          google.colab.kernel.accessAllowed ? 'block' : 'none';\n",
       "\n",
       "        async function convertToInteractive(key) {\n",
       "          const element = document.querySelector('#df-eea3b529-ef4d-4831-bdf2-8cdb354f6452');\n",
       "          const dataTable =\n",
       "            await google.colab.kernel.invokeFunction('convertToInteractive',\n",
       "                                                     [key], {});\n",
       "          if (!dataTable) return;\n",
       "\n",
       "          const docLinkHtml = 'Like what you see? Visit the ' +\n",
       "            '<a target=\"_blank\" href=https://colab.research.google.com/notebooks/data_table.ipynb>data table notebook</a>'\n",
       "            + ' to learn more about interactive tables.';\n",
       "          element.innerHTML = '';\n",
       "          dataTable['output_type'] = 'display_data';\n",
       "          await google.colab.output.renderOutput(dataTable, element);\n",
       "          const docLink = document.createElement('div');\n",
       "          docLink.innerHTML = docLinkHtml;\n",
       "          element.appendChild(docLink);\n",
       "        }\n",
       "      </script>\n",
       "    </div>\n",
       "  </div>\n",
       "  "
      ],
      "text/plain": [
       "     Annual Cost Of 4 Year Public Schools  ... Hours Worked to Pay for Private School\n",
       "0                                          ...                                       \n",
       "1985                                 8312  ...                            6172.537313\n",
       "1995                                10255  ...                            7423.421053\n",
       "2000                                10973  ...                            6003.106796\n",
       "2001                                11401  ...                            6185.825243\n",
       "2002                                11824  ...                            6303.106796\n",
       "2003                                12585  ...                            6507.378641\n",
       "2004                                13033  ...                            6623.300971\n",
       "2005                                13306  ...                            6649.902913\n",
       "2007                                13842  ...                            6915.145631\n",
       "2008                                14405  ...                            6204.786325\n",
       "2009                                14980  ...                            5591.450382\n",
       "2010                                15540  ...                            5036.551724\n",
       "2011                                15980  ...                            5074.758621\n",
       "2012                                16444  ...                            5206.896552\n",
       "2013                                16846  ...                            5351.586207\n",
       "2014                                17323  ...                            5523.448276\n",
       "2015                                17821  ...                            5720.275862\n",
       "2016                                17992  ...                            5891.310345\n",
       "2017                                18163  ...                            6007.862069\n",
       "2018                                18383  ...                            6111.172414\n",
       "\n",
       "[20 rows x 5 columns]"
      ]
     },
     "metadata": {},
     "output_type": "display_data"
    }
   ],
   "source": [
    "finalTable[\"Hours Worked to Pay for Public School\"] = finalTable[\"Annual Cost Of 4 Year Public Schools\"].astype(float)/finalTable[\"Minimum Wage\"]\n",
    "finalTable[\"Hours Worked to Pay for Private School\"] = finalTable[\"Annual Cost Of 4 Year Private Schools\"].astype(float)/finalTable[\"Minimum Wage\"]\n",
    "display(finalTable)"
   ]
  },
  {
   "cell_type": "markdown",
   "metadata": {
    "id": "ghc_IchGZW6j"
   },
   "source": [
    "Let's graph both over time to see if students nowadays actually have it worse."
   ]
  },
  {
   "cell_type": "code",
   "execution_count": 85,
   "metadata": {
    "colab": {
     "base_uri": "https://localhost:8080/",
     "height": 603
    },
    "id": "-m6pctLnXvcG",
    "outputId": "9c5be638-2786-4f5e-9a4b-fbb15e2155f1"
   },
   "outputs": [
    {
     "data": {
      "text/plain": [
       "<matplotlib.collections.PathCollection at 0x7efead7c5590>"
      ]
     },
     "metadata": {},
     "output_type": "display_data"
    },
    {
     "data": {
      "text/plain": [
       "Text(0.5, 1.0, 'Hours Needed to Pay for Public College VS Year')"
      ]
     },
     "execution_count": 85,
     "metadata": {},
     "output_type": "execute_result"
    },
    {
     "data": {
      "image/png": "[encoded data removed]",
      "text/plain": [
       "<Figure size 1152x648 with 1 Axes>"
      ]
     },
     "metadata": {
      "needs_background": "light"
     },
     "output_type": "display_data"
    }
   ],
   "source": [
    "hoursForPublicSchool = list(finalTable['Hours Worked to Pay for Public School'])\n",
    "f = plt.figure()\n",
    "f.set_figwidth(16)\n",
    "f.set_figheight(9)\n",
    "display(plt.scatter(years,hoursForPublicSchool))\n",
    "plt.xlabel('Year')\n",
    "plt.ylabel('Hours Needed to Pay For Public College')\n",
    "plt.title(\"Hours Needed to Pay for Public College VS Year\")"
   ]
  },
  {
   "cell_type": "code",
   "execution_count": 86,
   "metadata": {
    "colab": {
     "base_uri": "https://localhost:8080/",
     "height": 603
    },
    "id": "bNu9eXMBaHDr",
    "outputId": "5ac550c9-771c-4b1f-a0c7-69c1ff454867"
   },
   "outputs": [
    {
     "data": {
      "text/plain": [
       "<matplotlib.collections.PathCollection at 0x7efead5af7d0>"
      ]
     },
     "metadata": {},
     "output_type": "display_data"
    },
    {
     "data": {
      "text/plain": [
       "Text(0.5, 1.0, 'Hours Needed to Pay for Private College VS Year')"
      ]
     },
     "execution_count": 86,
     "metadata": {},
     "output_type": "execute_result"
    },
    {
     "data": {
      "image/png": "[encoded data removed]",
      "text/plain": [
       "<Figure size 1152x648 with 1 Axes>"
      ]
     },
     "metadata": {
      "needs_background": "light"
     },
     "output_type": "display_data"
    }
   ],
   "source": [
    "hoursForPrivateSchool = list(finalTable['Hours Worked to Pay for Private School'])\n",
    "f = plt.figure()\n",
    "f.set_figwidth(16)\n",
    "f.set_figheight(9)\n",
    "display(plt.scatter(years,hoursForPrivateSchool))\n",
    "plt.xlabel('Year')\n",
    "plt.ylabel('Hours Needed to Pay For Private College')\n",
    "plt.title(\"Hours Needed to Pay for Private College VS Year\")"
   ]
  },
  {
   "cell_type": "markdown",
   "metadata": {
    "id": "LEsLCYcob1Uw"
   },
   "source": [
    "Looking at the entire trend, interestingly enough, the data shows that the number of hours students would have to work to pay to go to college trended up, dipped down, and is slowly climbing back to \"normal\". This is contrary to popular belief (at least among college students) that right now, we have it the worst.\n",
    "There may be some credence to our complaints however, as just looking at the recent trend (2010-2018) sets off some alarm bells. Just in 8 years, we'd have to work an extra 500 (for public) or 1000 (for private) hours at minuimum wage just to pay for college.\n",
    "\n",
    "In addition, a quick google search shows that a full time job is on average 2080 hours of work a year. \n",
    "\n",
    "Looking at both our graphs, a full time job was never enough to pay for an public college (all our values are above 2080), and even working two full time jobs was never enogh to pay for a private college (all values on the private school graph are above 50000). Maybe college is just unreasonably priced all the way back in 1985 as well."
   ]
  },
  {
   "cell_type": "markdown",
   "metadata": {
    "id": "LlGOhgDOm-XI"
   },
   "source": [
    "Another explanation for me and my peers feeling like college is getting worse is because we've only observed the trend since 2010 (we are pretty young). If we only saw the graph from 2010 to where we are now, it's understandable why we'd think the prices are getting unreasonable: both graphs are trending up from 2010 onwards."
   ]
  },
  {
   "cell_type": "markdown",
   "metadata": {
    "id": "bFNaS_J3ejPX"
   },
   "source": [
    "# 4. Machine Learning"
   ]
  },
  {
   "cell_type": "markdown",
   "metadata": {
    "id": "fF7a0TZ1hGH2"
   },
   "source": [
    "# 4a. Analysing Growth Rates Public VS Private\n",
    "We will be using a machine learning package, sklearn, in python to fit our data to a line using linear regression.\n",
    "Doing this, we can analyze the growth rates of the cost of public vs private schools, and do a hypothesis test to see if they are different.\n",
    "\n",
    "To learn more about linear regression, you can read [here](https://realpython.com/linear-regression-in-python/)\n"
   ]
  },
  {
   "cell_type": "code",
   "execution_count": 87,
   "metadata": {
    "colab": {
     "base_uri": "https://localhost:8080/",
     "height": 313
    },
    "id": "Sa2i6M2sd2fw",
    "outputId": "b05714c6-df12-45c8-ba69-69e91bc75bb5"
   },
   "outputs": [
    {
     "name": "stdout",
     "output_type": "stream",
     "text": [
      "The coeficcient is: [353.16453706]\n"
     ]
    },
    {
     "data": {
      "image/png": "[encoded data removed]",
      "text/plain": [
       "<Figure size 432x288 with 1 Axes>"
      ]
     },
     "metadata": {
      "needs_background": "light"
     },
     "output_type": "display_data"
    }
   ],
   "source": [
    "from sklearn.linear_model import LinearRegression\n",
    "\n",
    "X = years\n",
    "# Normalize the years as years since data collection began (1985)\n",
    "X = np.array([float(x) - 1985 for x  in X]).reshape(-1, 1)\n",
    "y = finalTable[\"Annual Cost Of 4 Year Public Schools\"]\n",
    "\n",
    "# Run linear regression\n",
    "reg = LinearRegression()\n",
    "reg.fit(X,y)\n",
    "\n",
    "# Plot our Linear regression line\n",
    "plt.scatter(X,y)\n",
    "\n",
    "yPred = reg.predict(X)\n",
    "plt.plot(X, yPred)\n",
    "plt.xlabel('Years from 1985')\n",
    "plt.ylabel('Annual Cost to Attend Public College')\n",
    "plt.title(\"Annual Cost to Attend Public College VS Years Since 1985\")\n",
    "print(\"The coeficcient is: \" + str(reg.coef_))"
   ]
  },
  {
   "cell_type": "markdown",
   "metadata": {
    "id": "sbTE2rcnnxvg"
   },
   "source": [
    "This graph shows us that the annaul cost of attending public college rises around 353 dollars per year since 1985."
   ]
  },
  {
   "cell_type": "code",
   "execution_count": 88,
   "metadata": {
    "colab": {
     "base_uri": "https://localhost:8080/",
     "height": 313
    },
    "id": "4Yr5QCtlnvbv",
    "outputId": "32ae1b04-2d61-4256-e2ec-d8604eddf661"
   },
   "outputs": [
    {
     "name": "stdout",
     "output_type": "stream",
     "text": [
      "The coeficcient is: [676.2024769]\n"
     ]
    },
    {
     "data": {
      "image/png": "[encoded data removed]",
      "text/plain": [
       "<Figure size 432x288 with 1 Axes>"
      ]
     },
     "metadata": {
      "needs_background": "light"
     },
     "output_type": "display_data"
    }
   ],
   "source": [
    "y = finalTable[\"Annual Cost Of 4 Year Private Schools\"]\n",
    "\n",
    "# Run linear regression\n",
    "reg = LinearRegression()\n",
    "reg.fit(X,y)\n",
    "\n",
    "# Plot our Linear regression line\n",
    "plt.scatter(X,y)\n",
    "\n",
    "yPred = reg.predict(X)\n",
    "plt.plot(X, yPred)\n",
    "plt.xlabel('Years from 1985')\n",
    "plt.ylabel('Annual Cost to Attend Private College')\n",
    "plt.title(\"Annual Cost to Attend Private College VS Years Since 1985\")\n",
    "print(\"The coeficcient is: \" + str(reg.coef_))"
   ]
  },
  {
   "cell_type": "markdown",
   "metadata": {
    "id": "SWLiAvhhqif7"
   },
   "source": [
    "This graph shows us that the annaul cost of attending private college rises around 676 dollars per year since 1985.\n",
    "\n",
    "Using these two values, 353.16453706 per year for public schools, and 676.2024769 per year for private schools, and just looking at the data, it seems like private schools are almost double the cost of public schools. Let's compare (private schools)/2 and public schools.\n"
   ]
  },
  {
   "cell_type": "code",
   "execution_count": 89,
   "metadata": {
    "colab": {
     "base_uri": "https://localhost:8080/",
     "height": 331
    },
    "id": "bUADwCWY1kQe",
    "outputId": "f613ed60-1ac3-410f-9b00-6d7d3cc5decc"
   },
   "outputs": [
    {
     "name": "stdout",
     "output_type": "stream",
     "text": [
      "The coeficcient for Public School is: [353.16453706]\n",
      "The coeficcient for (Private school)/2 is: [338.10123845]\n"
     ]
    },
    {
     "data": {
      "image/png": "[encoded data removed]",
      "text/plain": [
       "<Figure size 432x288 with 1 Axes>"
      ]
     },
     "metadata": {
      "needs_background": "light"
     },
     "output_type": "display_data"
    }
   ],
   "source": [
    "finalTable[\"Private Schools/2\"] = finalTable[\"Annual Cost Of 4 Year Private Schools\"].astype(float)/2\n",
    "y = finalTable[\"Annual Cost Of 4 Year Public Schools\"]\n",
    "\n",
    "# Run linear regression\n",
    "reg = LinearRegression()\n",
    "reg.fit(X,y)\n",
    "\n",
    "# Plot our Linear regression line\n",
    "plt.scatter(X,y)\n",
    "\n",
    "yPred = reg.predict(X)\n",
    "plt.plot(X, yPred, label = \"Cost of Public College\")\n",
    "plt.xlabel('Years from 1985')\n",
    "plt.ylabel('Annual Cost to Attend')\n",
    "plt.title(\"Seeing if Public College is Excatly Half the Cost of Private College\")\n",
    "pub_coef = str(reg.coef_)\n",
    "\n",
    "y = finalTable[\"Private Schools/2\"]\n",
    "\n",
    "# Run linear regression\n",
    "reg = LinearRegression()\n",
    "reg.fit(X,y)\n",
    "\n",
    "# Plot our Linear regression line\n",
    "plt.scatter(X,y)\n",
    "\n",
    "yPred = reg.predict(X)\n",
    "plt.plot(X, yPred, label = \"(Cost of Private College)/2\")\n",
    "plt.legend()\n",
    "print(\"The coeficcient for Public School is: \" + pub_coef)\n",
    "print(\"The coeficcient for (Private school)/2 is: \" + str(reg.coef_))"
   ]
  },
  {
   "cell_type": "markdown",
   "metadata": {
    "id": "iiJm-e6r3Cks"
   },
   "source": [
    "From this graph, it looks like they are growing pretty similarly. It looks like private schools's tuition is increasing at twice the rate of public school's. \n",
    "We can do a hypothesis test to confirm this. I want to test if the regression line for private/2 is the same as public. \n",
    "\n",
    "If the regression lines are the same, it would help students understand that private colleges are pretty much double the price of public, and the price is also growing at a doubled rate.\n",
    "\n",
    "To do this, we need to import another package, statsmodels.api\n",
    "\n",
    "We are testing (Private/2 = Public) which equivalently is (Private/2 - Public = 0)\n",
    "\n",
    "The Null Hypothesis is that the slopes and intercepts of Private/2 and Public are the same.\n",
    "\n",
    "The alternative hypothesis is that the slopes and intercepts of Private/2 and Public are different."
   ]
  },
  {
   "cell_type": "code",
   "execution_count": 90,
   "metadata": {
    "colab": {
     "base_uri": "https://localhost:8080/"
    },
    "id": "pVuWnzJr5KzY",
    "outputId": "52034999-b262-49bc-9cc7-abcdccfaf40e"
   },
   "outputs": [
    {
     "name": "stdout",
     "output_type": "stream",
     "text": [
      "                            OLS Regression Results                            \n",
      "==============================================================================\n",
      "Dep. Variable:                      y   R-squared:                       0.026\n",
      "Model:                            OLS   Adj. R-squared:                 -0.028\n",
      "Method:                 Least Squares   F-statistic:                    0.4799\n",
      "Date:                Sun, 19 Dec 2021   Prob (F-statistic):              0.497\n",
      "Time:                        20:40:02   Log-Likelihood:                -160.39\n",
      "No. Observations:                  20   AIC:                             324.8\n",
      "Df Residuals:                      18   BIC:                             326.8\n",
      "Df Model:                           1                                         \n",
      "Covariance Type:            nonrobust                                         \n",
      "==============================================================================\n",
      "                 coef    std err          t      P>|t|      [0.025      0.975]\n",
      "------------------------------------------------------------------------------\n",
      "const       3776.6084    513.956      7.348      0.000    2696.828    4856.389\n",
      "x1           -15.0633     21.745     -0.693      0.497     -60.747      30.621\n",
      "==============================================================================\n",
      "Omnibus:                        1.827   Durbin-Watson:                   0.518\n",
      "Prob(Omnibus):                  0.401   Jarque-Bera (JB):                1.497\n",
      "Skew:                          -0.622   Prob(JB):                        0.473\n",
      "Kurtosis:                       2.500   Cond. No.                         70.2\n",
      "==============================================================================\n",
      "\n",
      "Warnings:\n",
      "[1] Standard Errors assume that the covariance matrix of the errors is correctly specified.\n"
     ]
    }
   ],
   "source": [
    "import statsmodels.api as sm\n",
    "# Calcuate the difference\n",
    "diff = finalTable[\"Private Schools/2\"].astype(float).values - finalTable[\"Annual Cost Of 4 Year Public Schools\"].astype(float).values\n",
    "# Let create a linear regression\n",
    "mod = sm.OLS(diff, sm.add_constant(X))\n",
    "res = mod.fit()\n",
    "print(res.summary())"
   ]
  },
  {
   "cell_type": "markdown",
   "metadata": {
    "id": "-m7nEQyq7EtO"
   },
   "source": [
    "This output tells us that private colleges are not exactly double the price of public colleges. When divided by 2, private colleges are around 3,776 dollars more expensive, meaning they are around 7,552 dollars more expensive. However, our results fail to reject that the two slopes are different, in favor of that they are the same. This hypothesis test backs up our belief that private college's growth rate closely follows 2x the growth of public colleges.\n",
    "\n",
    "To learn more about hypothesis tests and how to interpret these results, you can read [here](https://https://statisticsbyjim.com/regression/comparing-regression-lines/)\n",
    "\n",
    "\n",
    "We can further confirm this with a test of correlation."
   ]
  },
  {
   "cell_type": "code",
   "execution_count": 1,
   "metadata": {
    "colab": {
     "base_uri": "https://localhost:8080/",
     "height": 746
    },
    "id": "4QidIo5G8fuK",
    "outputId": "8e04b275-2e1e-433a-b7d2-c53ccb4226f3"
   },
   "outputs": [
    {
     "ename": "NameError",
     "evalue": "name 'sm' is not defined",
     "output_type": "error",
     "traceback": [
      "\u001b[0;31m---------------------------------------------------------------------------\u001b[0m",
      "\u001b[0;31mNameError\u001b[0m                                 Traceback (most recent call last)",
      "\u001b[0;32m<ipython-input-1-aed81a95fe62>\u001b[0m in \u001b[0;36m<module>\u001b[0;34m\u001b[0m\n\u001b[0;32m----> 1\u001b[0;31m \u001b[0mmod\u001b[0m \u001b[0;34m=\u001b[0m \u001b[0msm\u001b[0m\u001b[0;34m.\u001b[0m\u001b[0mOLS\u001b[0m\u001b[0;34m(\u001b[0m\u001b[0mfinalTable\u001b[0m\u001b[0;34m[\u001b[0m\u001b[0;34m\"Annual Cost Of 4 Year Private Schools\"\u001b[0m\u001b[0;34m]\u001b[0m\u001b[0;34m.\u001b[0m\u001b[0mastype\u001b[0m\u001b[0;34m(\u001b[0m\u001b[0mfloat\u001b[0m\u001b[0;34m)\u001b[0m\u001b[0;34m.\u001b[0m\u001b[0mvalues\u001b[0m\u001b[0;34m,\u001b[0m \u001b[0mfinalTable\u001b[0m\u001b[0;34m[\u001b[0m\u001b[0;34m\"Annual Cost Of 4 Year Public Schools\"\u001b[0m\u001b[0;34m]\u001b[0m\u001b[0;34m.\u001b[0m\u001b[0mastype\u001b[0m\u001b[0;34m(\u001b[0m\u001b[0mfloat\u001b[0m\u001b[0;34m)\u001b[0m\u001b[0;34m.\u001b[0m\u001b[0mvalues\u001b[0m\u001b[0;34m)\u001b[0m\u001b[0;34m\u001b[0m\u001b[0;34m\u001b[0m\u001b[0m\n\u001b[0m\u001b[1;32m      2\u001b[0m \u001b[0mres\u001b[0m \u001b[0;34m=\u001b[0m \u001b[0mmod\u001b[0m\u001b[0;34m.\u001b[0m\u001b[0mfit\u001b[0m\u001b[0;34m(\u001b[0m\u001b[0;34m)\u001b[0m\u001b[0;34m\u001b[0m\u001b[0;34m\u001b[0m\u001b[0m\n\u001b[1;32m      3\u001b[0m \u001b[0mprint\u001b[0m\u001b[0;34m(\u001b[0m\u001b[0mres\u001b[0m\u001b[0;34m.\u001b[0m\u001b[0msummary\u001b[0m\u001b[0;34m(\u001b[0m\u001b[0;34m)\u001b[0m\u001b[0;34m)\u001b[0m\u001b[0;34m\u001b[0m\u001b[0;34m\u001b[0m\u001b[0m\n\u001b[1;32m      4\u001b[0m \u001b[0mplt\u001b[0m\u001b[0;34m.\u001b[0m\u001b[0mplot\u001b[0m\u001b[0;34m(\u001b[0m\u001b[0mfinalTable\u001b[0m\u001b[0;34m[\u001b[0m\u001b[0;34m\"Annual Cost Of 4 Year Public Schools\"\u001b[0m\u001b[0;34m]\u001b[0m\u001b[0;34m.\u001b[0m\u001b[0mastype\u001b[0m\u001b[0;34m(\u001b[0m\u001b[0mfloat\u001b[0m\u001b[0;34m)\u001b[0m\u001b[0;34m.\u001b[0m\u001b[0mvalues\u001b[0m\u001b[0;34m,\u001b[0m\u001b[0mfinalTable\u001b[0m\u001b[0;34m[\u001b[0m\u001b[0;34m\"Annual Cost Of 4 Year Private Schools\"\u001b[0m\u001b[0;34m]\u001b[0m\u001b[0;34m.\u001b[0m\u001b[0mastype\u001b[0m\u001b[0;34m(\u001b[0m\u001b[0mfloat\u001b[0m\u001b[0;34m)\u001b[0m\u001b[0;34m.\u001b[0m\u001b[0mvalues\u001b[0m\u001b[0;34m)\u001b[0m\u001b[0;34m\u001b[0m\u001b[0;34m\u001b[0m\u001b[0m\n\u001b[1;32m      5\u001b[0m \u001b[0mplt\u001b[0m\u001b[0;34m.\u001b[0m\u001b[0mxlabel\u001b[0m\u001b[0;34m(\u001b[0m\u001b[0;34m'Annual Cost Of 4 Year Public Schools'\u001b[0m\u001b[0;34m)\u001b[0m\u001b[0;34m\u001b[0m\u001b[0;34m\u001b[0m\u001b[0m\n",
      "\u001b[0;31mNameError\u001b[0m: name 'sm' is not defined"
     ]
    }
   ],
   "source": [
    "mod = sm.OLS(finalTable[\"Annual Cost Of 4 Year Private Schools\"].astype(float).values, finalTable[\"Annual Cost Of 4 Year Public Schools\"].astype(float).values)\n",
    "res = mod.fit()\n",
    "print(res.summary())\n",
    "plt.plot(finalTable[\"Annual Cost Of 4 Year Public Schools\"].astype(float).values,finalTable[\"Annual Cost Of 4 Year Private Schools\"].astype(float).values)\n",
    "plt.xlabel('Annual Cost Of 4 Year Public Schools')\n",
    "plt.ylabel('Annual Cost Of 4 Year Private Schools')\n",
    "plt.title(\"Private vs Public Costs\")"
   ]
  },
  {
   "cell_type": "markdown",
   "metadata": {
    "id": "YTWwiDf185Hb"
   },
   "source": [
    "As we can see, the two lines are extremely closely correlated with a R-squared of 0.996. This means the correlation coefficient is the positive (since we can see its a positive trend on the plot) sqrt(rsquared) = 0.99799 which is extremely high\n",
    "\n",
    "\n",
    "To learn more about correlation and regression, click [here](https://https://www.bmj.com/about-bmj/resources-readers/publications/statistics-square-one/11-correlation-and-regression)\n",
    "\n",
    "The P-value is essentially zero, meaning the slope is good to use. This regression analysis shows us that private colleges are actually closer to 2.45 the cost of public schools rather than the double we loosely observed from the data.\n",
    "\n",
    "To learn more about how to interpret these regression analysis, click [here](https://https://blog.minitab.com/en/adventures-in-statistics-2/how-to-interpret-regression-analysis-results-p-values-and-coefficients)\n",
    "\n"
   ]
  },
  {
   "cell_type": "markdown",
   "metadata": {
    "id": "j8gIhWpD-bpO"
   },
   "source": [
    "#4b. How do these Growth Rates Compare to the Growth of Minimum Wage\n",
    "I want to calculate the percent change per year and compare it to the percent change in minimum wage per year. I think using the rates from the linear regression will be more insightful than calculating the percent change from the raw data.\n",
    "\n",
    "Calculating the percent change from the raw data would look like this: (Cost at 2015 - Cost at 2014)/(Cost at 2014) * 100 which is susceptable to smaller trends within years.\n",
    "\n",
    "Using the calcalation of (Change per year from regression)/(Cost at 2014) will better capture the overall trend of average percent change.\n"
   ]
  },
  {
   "cell_type": "code",
   "execution_count": 2,
   "metadata": {
    "colab": {
     "base_uri": "https://localhost:8080/",
     "height": 786
    },
    "id": "2PTTLJf4zr8N",
    "outputId": "04597c34-f8d4-4a5f-ab79-c322c02097c4"
   },
   "outputs": [
    {
     "ename": "NameError",
     "evalue": "name 'finalTable' is not defined",
     "output_type": "error",
     "traceback": [
      "\u001b[0;31m---------------------------------------------------------------------------\u001b[0m",
      "\u001b[0;31mNameError\u001b[0m                                 Traceback (most recent call last)",
      "\u001b[0;32m<ipython-input-2-670fd3d8de75>\u001b[0m in \u001b[0;36m<module>\u001b[0;34m\u001b[0m\n\u001b[0;32m----> 1\u001b[0;31m \u001b[0mfinalTable\u001b[0m\u001b[0;34m[\u001b[0m\u001b[0;34m\"Percent Change in Costs for Public Schools\"\u001b[0m\u001b[0;34m]\u001b[0m \u001b[0;34m=\u001b[0m \u001b[0;36m353.16453706\u001b[0m\u001b[0;34m/\u001b[0m\u001b[0mfinalTable\u001b[0m\u001b[0;34m[\u001b[0m\u001b[0;34m\"Annual Cost Of 4 Year Public Schools\"\u001b[0m\u001b[0;34m]\u001b[0m\u001b[0;34m.\u001b[0m\u001b[0mastype\u001b[0m\u001b[0;34m(\u001b[0m\u001b[0mfloat\u001b[0m\u001b[0;34m)\u001b[0m\u001b[0;34m*\u001b[0m\u001b[0;36m100\u001b[0m\u001b[0;34m\u001b[0m\u001b[0;34m\u001b[0m\u001b[0m\n\u001b[0m\u001b[1;32m      2\u001b[0m \u001b[0mfinalTable\u001b[0m\u001b[0;34m[\u001b[0m\u001b[0;34m\"Percent Change in Costs for Private Schools\"\u001b[0m\u001b[0;34m]\u001b[0m \u001b[0;34m=\u001b[0m \u001b[0;36m676.2024769\u001b[0m\u001b[0;34m/\u001b[0m\u001b[0mfinalTable\u001b[0m\u001b[0;34m[\u001b[0m\u001b[0;34m\"Annual Cost Of 4 Year Private Schools\"\u001b[0m\u001b[0;34m]\u001b[0m\u001b[0;34m.\u001b[0m\u001b[0mastype\u001b[0m\u001b[0;34m(\u001b[0m\u001b[0mfloat\u001b[0m\u001b[0;34m)\u001b[0m\u001b[0;34m*\u001b[0m\u001b[0;36m100\u001b[0m\u001b[0;34m\u001b[0m\u001b[0;34m\u001b[0m\u001b[0m\n\u001b[1;32m      3\u001b[0m \u001b[0mdisplay\u001b[0m\u001b[0;34m(\u001b[0m\u001b[0mfinalTable\u001b[0m\u001b[0;34m)\u001b[0m\u001b[0;34m\u001b[0m\u001b[0;34m\u001b[0m\u001b[0m\n",
      "\u001b[0;31mNameError\u001b[0m: name 'finalTable' is not defined"
     ]
    }
   ],
   "source": [
    "finalTable[\"Percent Change in Costs for Public Schools\"] = 353.16453706/finalTable[\"Annual Cost Of 4 Year Public Schools\"].astype(float)*100\n",
    "finalTable[\"Percent Change in Costs for Private Schools\"] = 676.2024769/finalTable[\"Annual Cost Of 4 Year Private Schools\"].astype(float)*100\n",
    "display(finalTable)"
   ]
  },
  {
   "cell_type": "code",
   "execution_count": 3,
   "metadata": {
    "colab": {
     "base_uri": "https://localhost:8080/",
     "height": 313
    },
    "id": "yKmB275PqvJo",
    "outputId": "d211fab2-af5f-4442-8bb0-29a9ab456ad2"
   },
   "outputs": [
    {
     "ename": "NameError",
     "evalue": "name 'finalTable' is not defined",
     "output_type": "error",
     "traceback": [
      "\u001b[0;31m---------------------------------------------------------------------------\u001b[0m",
      "\u001b[0;31mNameError\u001b[0m                                 Traceback (most recent call last)",
      "\u001b[0;32m<ipython-input-3-4f1c6b3e314f>\u001b[0m in \u001b[0;36m<module>\u001b[0;34m\u001b[0m\n\u001b[0;32m----> 1\u001b[0;31m \u001b[0my\u001b[0m \u001b[0;34m=\u001b[0m \u001b[0mfinalTable\u001b[0m\u001b[0;34m[\u001b[0m\u001b[0;34m\"Minimum Wage\"\u001b[0m\u001b[0;34m]\u001b[0m\u001b[0;34m\u001b[0m\u001b[0;34m\u001b[0m\u001b[0m\n\u001b[0m\u001b[1;32m      2\u001b[0m \u001b[0;34m\u001b[0m\u001b[0m\n\u001b[1;32m      3\u001b[0m \u001b[0;31m# Run linear regression\u001b[0m\u001b[0;34m\u001b[0m\u001b[0;34m\u001b[0m\u001b[0;34m\u001b[0m\u001b[0m\n\u001b[1;32m      4\u001b[0m \u001b[0mreg\u001b[0m \u001b[0;34m=\u001b[0m \u001b[0mLinearRegression\u001b[0m\u001b[0;34m(\u001b[0m\u001b[0;34m)\u001b[0m\u001b[0;34m\u001b[0m\u001b[0;34m\u001b[0m\u001b[0m\n\u001b[1;32m      5\u001b[0m \u001b[0mreg\u001b[0m\u001b[0;34m.\u001b[0m\u001b[0mfit\u001b[0m\u001b[0;34m(\u001b[0m\u001b[0mX\u001b[0m\u001b[0;34m,\u001b[0m\u001b[0my\u001b[0m\u001b[0;34m)\u001b[0m\u001b[0;34m\u001b[0m\u001b[0;34m\u001b[0m\u001b[0m\n",
      "\u001b[0;31mNameError\u001b[0m: name 'finalTable' is not defined"
     ]
    }
   ],
   "source": [
    "y = finalTable[\"Minimum Wage\"]\n",
    "\n",
    "# Run linear regression\n",
    "reg = LinearRegression()\n",
    "reg.fit(X,y)\n",
    "\n",
    "# Plot our Linear regression line\n",
    "plt.scatter(X,y)\n",
    "\n",
    "yPred = reg.predict(X)\n",
    "plt.plot(X, yPred)\n",
    "plt.xlabel('Years from 1985')\n",
    "plt.ylabel('Hourly Minimum Wage in Dollars')\n",
    "plt.title(\"Hourly Minimum Wage in Dollars VS Years Since 1985\")\n",
    "print(\"The coeficcient is: \" + str(reg.coef_))"
   ]
  },
  {
   "cell_type": "markdown",
   "metadata": {
    "id": "z0AZ-LcbvBtd"
   },
   "source": [
    "This graph shows us that since 1985, the minimum wage increases around 0.1471496 dollars per year."
   ]
  },
  {
   "cell_type": "code",
   "execution_count": 4,
   "metadata": {
    "colab": {
     "base_uri": "https://localhost:8080/",
     "height": 1000
    },
    "id": "KdS80cnuHDTE",
    "outputId": "d9ccabbd-d855-478a-db26-f367d8ce4e91"
   },
   "outputs": [
    {
     "ename": "NameError",
     "evalue": "name 'finalTable' is not defined",
     "output_type": "error",
     "traceback": [
      "\u001b[0;31m---------------------------------------------------------------------------\u001b[0m",
      "\u001b[0;31mNameError\u001b[0m                                 Traceback (most recent call last)",
      "\u001b[0;32m<ipython-input-4-6900ae87d8a4>\u001b[0m in \u001b[0;36m<module>\u001b[0;34m\u001b[0m\n\u001b[0;32m----> 1\u001b[0;31m \u001b[0mfinalTable\u001b[0m\u001b[0;34m[\u001b[0m\u001b[0;34m\"Percent Change in Costs for Minimum Wage\"\u001b[0m\u001b[0;34m]\u001b[0m \u001b[0;34m=\u001b[0m \u001b[0;36m0.1471496\u001b[0m\u001b[0;34m/\u001b[0m\u001b[0mfinalTable\u001b[0m\u001b[0;34m[\u001b[0m\u001b[0;34m\"Minimum Wage\"\u001b[0m\u001b[0;34m]\u001b[0m\u001b[0;34m.\u001b[0m\u001b[0mastype\u001b[0m\u001b[0;34m(\u001b[0m\u001b[0mfloat\u001b[0m\u001b[0;34m)\u001b[0m\u001b[0;34m*\u001b[0m\u001b[0;36m100\u001b[0m\u001b[0;34m\u001b[0m\u001b[0;34m\u001b[0m\u001b[0m\n\u001b[0m\u001b[1;32m      2\u001b[0m \u001b[0mdisplay\u001b[0m\u001b[0;34m(\u001b[0m\u001b[0mfinalTable\u001b[0m\u001b[0;34m)\u001b[0m\u001b[0;34m\u001b[0m\u001b[0;34m\u001b[0m\u001b[0m\n\u001b[1;32m      3\u001b[0m \u001b[0;34m\u001b[0m\u001b[0m\n\u001b[1;32m      4\u001b[0m \u001b[0mplt\u001b[0m\u001b[0;34m.\u001b[0m\u001b[0mplot\u001b[0m\u001b[0;34m(\u001b[0m\u001b[0mX\u001b[0m\u001b[0;34m,\u001b[0m \u001b[0mfinalTable\u001b[0m\u001b[0;34m[\u001b[0m\u001b[0;34m\"Percent Change in Costs for Public Schools\"\u001b[0m\u001b[0;34m]\u001b[0m\u001b[0;34m,\u001b[0m \u001b[0mlabel\u001b[0m \u001b[0;34m=\u001b[0m \u001b[0;34m\"Percent Change in Costs for Public Schools\"\u001b[0m\u001b[0;34m)\u001b[0m\u001b[0;34m\u001b[0m\u001b[0;34m\u001b[0m\u001b[0m\n\u001b[1;32m      5\u001b[0m \u001b[0mplt\u001b[0m\u001b[0;34m.\u001b[0m\u001b[0mplot\u001b[0m\u001b[0;34m(\u001b[0m\u001b[0mX\u001b[0m\u001b[0;34m,\u001b[0m \u001b[0mfinalTable\u001b[0m\u001b[0;34m[\u001b[0m\u001b[0;34m\"Percent Change in Costs for Private Schools\"\u001b[0m\u001b[0;34m]\u001b[0m\u001b[0;34m,\u001b[0m \u001b[0mlabel\u001b[0m \u001b[0;34m=\u001b[0m \u001b[0;34m\"Percent Change in Costs for Private Schools\"\u001b[0m\u001b[0;34m)\u001b[0m\u001b[0;34m\u001b[0m\u001b[0;34m\u001b[0m\u001b[0m\n",
      "\u001b[0;31mNameError\u001b[0m: name 'finalTable' is not defined"
     ]
    }
   ],
   "source": [
    "finalTable[\"Percent Change in Costs for Minimum Wage\"] = 0.1471496/finalTable[\"Minimum Wage\"].astype(float)*100\n",
    "display(finalTable)\n",
    "\n",
    "plt.plot(X, finalTable[\"Percent Change in Costs for Public Schools\"], label = \"Percent Change in Costs for Public Schools\")\n",
    "plt.plot(X, finalTable[\"Percent Change in Costs for Private Schools\"], label = \"Percent Change in Costs for Private Schools\")\n",
    "plt.plot(X, finalTable[\"Percent Change in Costs for Minimum Wage\"], label = \"Percent Change in Costs for Minimum Wage\")\n",
    "plt.legend()"
   ]
  },
  {
   "cell_type": "markdown",
   "metadata": {
    "id": "yyTott-iLdYb"
   },
   "source": [
    "Again, contrary to my and my peers expecations, it seems as though the percentage change of minimum wage is very similar to the percentage change for college expenses. I was expectnig that minimum wage's percentage change would be way lower in comparison, and that college expenses were growing way faster than minimum wage was, but the data says otherwise.\n"
   ]
  },
  {
   "cell_type": "markdown",
   "metadata": {
    "id": "jiwfq6EYL5Ok"
   },
   "source": [
    "# 5. Conclusion and Final Thoughts\n",
    "My expectations were proven wrong, and minimum wage has been growing at the same rate as college tuition. However, maybe we should be talking about how much college costs in general since the lowest amount of hours needed to work at minimum wage to pay for college at a public or private institution is not reasonable.\n",
    "\n",
    "Some things to consider are that I couldn't find good data for the earlier years which is closer to the when people say they worked through college with a part time job. If I were to do this again, I'd search deeper for earlier records, maybe going to each college individually and noting their previous costs for data curation. I felt like that was out of the scope of this class, and there wasn't an existing table I could find, so I settled on this.\n",
    "\n",
    "In terms of results and why we college students feel this way could be due to economical changes. This analysis only takes into account college expenses and minimum wage, but not the economy. I know my peers and I are worried about the housing market, and more and more necessary costs that older generations did not have. For example, technological devices and wifi are expenses people going through college did not have to deal with. Right now, the automotive market is terrible, and gas prices are rising. I would be interested in seeing how the cost of living in terms of housing and necessary expenses has gone up over time in addition to college, because I want to be proven right. This analysis proved me wrong that college expenses are not getting worse, but also showed me college expenses have always been unreasonable. To feel more fulfilled I'd look for other reasons to complain such as the economy and analyze that in addition to college expenses to justify how me and my peers feel."
   ]
  }
 ],
 "metadata": {
  "colab": {
   "collapsed_sections": [],
   "name": "320 Final Project",
   "provenance": []
  },
  "kernelspec": {
   "display_name": "Python 3",
   "language": "python",
   "name": "python3"
  },
  "language_info": {
   "codemirror_mode": {
    "name": "ipython",
    "version": 3
   },
   "file_extension": ".py",
   "mimetype": "text/x-python",
   "name": "python",
   "nbconvert_exporter": "python",
   "pygments_lexer": "ipython3",
   "version": "3.8.6"
  }
 },
 "nbformat": 4,
 "nbformat_minor": 1
}
